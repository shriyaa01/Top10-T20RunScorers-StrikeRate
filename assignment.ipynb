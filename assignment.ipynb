{
 "cells": [
  {
   "cell_type": "code",
   "execution_count": 1,
   "id": "5bc0148c",
   "metadata": {},
   "outputs": [],
   "source": [
    "import requests\n",
    "from bs4 import BeautifulSoup\n",
    "url = \"https://stats.espncricinfo.com/ci/engine/stats/index.html?class=3;orderby=runs;template=results;type=batting\"\n",
    "r = requests.get(url)"
   ]
  },
  {
   "cell_type": "code",
   "execution_count": 2,
   "id": "178dbebf",
   "metadata": {},
   "outputs": [],
   "source": [
    "con=r.content\n",
    "soup = BeautifulSoup(con, \"html.parser\")\n",
    "table = soup.find(\"tbody\")\n",
    "data_rows = table.find_all(\"tr\", class_=\"data1\")\n",
    "pstats = []\n"
   ]
  },
  {
   "cell_type": "code",
   "execution_count": null,
   "id": "b1d28d54",
   "metadata": {},
   "outputs": [],
   "source": []
  },
  {
   "cell_type": "code",
   "execution_count": 3,
   "id": "4cb14fee",
   "metadata": {},
   "outputs": [],
   "source": [
    "for row in data_rows:\n",
    "    columns = row.find_all(\"td\")\n",
    "    player_name = columns[0].text.strip()\n",
    "    strike_rate = float(columns[9].text.strip())\n",
    "    if [player_name, strike_rate] not in pstats:\n",
    "         pstats.append([player_name, strike_rate])\n",
    "\n"
   ]
  },
  {
   "cell_type": "code",
   "execution_count": 5,
   "id": "be78ee9f",
   "metadata": {},
   "outputs": [],
   "source": [
    "\n",
    "s = sorted(pstats, key=lambda x: x[1], reverse=True)\n"
   ]
  },
  {
   "cell_type": "code",
   "execution_count": 8,
   "id": "17eb6d3b",
   "metadata": {},
   "outputs": [
    {
     "name": "stdout",
     "output_type": "stream",
     "text": [
      "SA Yadav (IND) having strike rate 175.76\n",
      "C Munro (NZ) having strike rate 156.44\n",
      "GJ Maxwell (AUS) having strike rate 150.97\n",
      "DA Miller (SA/World) having strike rate 144.64\n",
      "JC Buttler (ENG) having strike rate 144.07\n",
      "AJ Finch (AUS) having strike rate 142.53\n",
      "DA Warner (AUS) having strike rate 141.3\n",
      "Najibullah Zadran (AFG) having strike rate 140.45\n",
      "RG Sharma (IND) having strike rate 139.24\n",
      "Mohammad Nabi (AFG) having strike rate 139.17\n"
     ]
    }
   ],
   "source": [
    "for i in range(10):\n",
    "    print(s[i][0],\"having strike rate\",s[i][1])"
   ]
  },
  {
   "cell_type": "code",
   "execution_count": null,
   "id": "e2ccd500",
   "metadata": {},
   "outputs": [],
   "source": []
  },
  {
   "cell_type": "code",
   "execution_count": null,
   "id": "18227ef0",
   "metadata": {},
   "outputs": [],
   "source": []
  },
  {
   "cell_type": "code",
   "execution_count": null,
   "id": "22c415b0",
   "metadata": {},
   "outputs": [],
   "source": []
  },
  {
   "cell_type": "code",
   "execution_count": null,
   "id": "a1288a25",
   "metadata": {},
   "outputs": [],
   "source": []
  },
  {
   "cell_type": "code",
   "execution_count": null,
   "id": "7a1695d4",
   "metadata": {},
   "outputs": [],
   "source": []
  }
 ],
 "metadata": {
  "kernelspec": {
   "display_name": "Python 3 (ipykernel)",
   "language": "python",
   "name": "python3"
  },
  "language_info": {
   "codemirror_mode": {
    "name": "ipython",
    "version": 3
   },
   "file_extension": ".py",
   "mimetype": "text/x-python",
   "name": "python",
   "nbconvert_exporter": "python",
   "pygments_lexer": "ipython3",
   "version": "3.9.13"
  }
 },
 "nbformat": 4,
 "nbformat_minor": 5
}
